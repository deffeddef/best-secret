{
 "cells": [
  {
   "cell_type": "markdown",
   "metadata": {},
   "source": [
    "# Best Secret Data Science Task"
   ]
  },
  {
   "cell_type": "markdown",
   "metadata": {},
   "source": [
    "1. Ingestion of Data\n",
    "2. Data Preprocessing (Missing Values, Datetime Conversion) / Feature Engineering\n",
    "3. Analysis\n",
    "4. ID List"
   ]
  },
  {
   "cell_type": "code",
   "execution_count": 121,
   "metadata": {},
   "outputs": [],
   "source": [
    "import pandas as pd\n",
    "import matplotlib.pyplot as plt\n",
    "import numpy as np\n",
    "import seaborn as sn\n",
    "from sklearn.ensemble import IsolationForest"
   ]
  },
  {
   "cell_type": "markdown",
   "metadata": {},
   "source": [
    "# Ingestion of Data"
   ]
  },
  {
   "cell_type": "code",
   "execution_count": 122,
   "metadata": {},
   "outputs": [],
   "source": [
    "df = pd.read_csv('bestsecret_analysis_test_data.csv')"
   ]
  },
  {
   "cell_type": "code",
   "execution_count": 123,
   "metadata": {},
   "outputs": [
    {
     "data": {
      "text/html": [
       "<div>\n",
       "<style scoped>\n",
       "    .dataframe tbody tr th:only-of-type {\n",
       "        vertical-align: middle;\n",
       "    }\n",
       "\n",
       "    .dataframe tbody tr th {\n",
       "        vertical-align: top;\n",
       "    }\n",
       "\n",
       "    .dataframe thead th {\n",
       "        text-align: right;\n",
       "    }\n",
       "</style>\n",
       "<table border=\"1\" class=\"dataframe\">\n",
       "  <thead>\n",
       "    <tr style=\"text-align: right;\">\n",
       "      <th></th>\n",
       "      <th>CUSTOMER_ID</th>\n",
       "      <th>CUSTOMER_CREATED_TIMESTAMP</th>\n",
       "      <th>CUSTOMER_GENDER</th>\n",
       "      <th>CUSTOMER_REGISTRATION_CHANNEL</th>\n",
       "      <th>INVITER_CUSTOMER_ID</th>\n",
       "      <th>QTY_ORDERS</th>\n",
       "      <th>REVENUE</th>\n",
       "      <th>FIRST_ORDER_DATE</th>\n",
       "      <th>LAST_ORDER_DATE</th>\n",
       "    </tr>\n",
       "  </thead>\n",
       "  <tbody>\n",
       "    <tr>\n",
       "      <th>0</th>\n",
       "      <td>1</td>\n",
       "      <td>2012-10-08 11:49:43.755</td>\n",
       "      <td>male</td>\n",
       "      <td>other</td>\n",
       "      <td>NaN</td>\n",
       "      <td>0</td>\n",
       "      <td>NaN</td>\n",
       "      <td>NaN</td>\n",
       "      <td>NaN</td>\n",
       "    </tr>\n",
       "    <tr>\n",
       "      <th>1</th>\n",
       "      <td>2</td>\n",
       "      <td>2013-08-26 15:44:11.173</td>\n",
       "      <td>female</td>\n",
       "      <td>viral</td>\n",
       "      <td>42921.0</td>\n",
       "      <td>0</td>\n",
       "      <td>NaN</td>\n",
       "      <td>NaN</td>\n",
       "      <td>NaN</td>\n",
       "    </tr>\n",
       "    <tr>\n",
       "      <th>2</th>\n",
       "      <td>3</td>\n",
       "      <td>2014-02-08 20:42:39.698</td>\n",
       "      <td>male</td>\n",
       "      <td>viral</td>\n",
       "      <td>42922.0</td>\n",
       "      <td>11</td>\n",
       "      <td>754.0499</td>\n",
       "      <td>2014-09-25 00:00:00.000</td>\n",
       "      <td>2017-01-29 00:00:00.000</td>\n",
       "    </tr>\n",
       "    <tr>\n",
       "      <th>3</th>\n",
       "      <td>4</td>\n",
       "      <td>2014-02-09 07:48:45.611</td>\n",
       "      <td>male</td>\n",
       "      <td>other</td>\n",
       "      <td>NaN</td>\n",
       "      <td>0</td>\n",
       "      <td>NaN</td>\n",
       "      <td>NaN</td>\n",
       "      <td>NaN</td>\n",
       "    </tr>\n",
       "    <tr>\n",
       "      <th>4</th>\n",
       "      <td>5</td>\n",
       "      <td>2014-04-02 01:09:20.439</td>\n",
       "      <td>female</td>\n",
       "      <td>viral</td>\n",
       "      <td>42923.0</td>\n",
       "      <td>0</td>\n",
       "      <td>NaN</td>\n",
       "      <td>NaN</td>\n",
       "      <td>NaN</td>\n",
       "    </tr>\n",
       "  </tbody>\n",
       "</table>\n",
       "</div>"
      ],
      "text/plain": [
       "   CUSTOMER_ID CUSTOMER_CREATED_TIMESTAMP CUSTOMER_GENDER  \\\n",
       "0            1    2012-10-08 11:49:43.755            male   \n",
       "1            2    2013-08-26 15:44:11.173          female   \n",
       "2            3    2014-02-08 20:42:39.698            male   \n",
       "3            4    2014-02-09 07:48:45.611            male   \n",
       "4            5    2014-04-02 01:09:20.439          female   \n",
       "\n",
       "  CUSTOMER_REGISTRATION_CHANNEL  INVITER_CUSTOMER_ID  QTY_ORDERS   REVENUE  \\\n",
       "0                         other                  NaN           0       NaN   \n",
       "1                         viral              42921.0           0       NaN   \n",
       "2                         viral              42922.0          11  754.0499   \n",
       "3                         other                  NaN           0       NaN   \n",
       "4                         viral              42923.0           0       NaN   \n",
       "\n",
       "          FIRST_ORDER_DATE          LAST_ORDER_DATE  \n",
       "0                      NaN                      NaN  \n",
       "1                      NaN                      NaN  \n",
       "2  2014-09-25 00:00:00.000  2017-01-29 00:00:00.000  \n",
       "3                      NaN                      NaN  \n",
       "4                      NaN                      NaN  "
      ]
     },
     "execution_count": 123,
     "metadata": {},
     "output_type": "execute_result"
    }
   ],
   "source": [
    "df.head()"
   ]
  },
  {
   "cell_type": "code",
   "execution_count": 124,
   "metadata": {},
   "outputs": [
    {
     "data": {
      "text/plain": [
       "CUSTOMER_ID                          0\n",
       "CUSTOMER_CREATED_TIMESTAMP           0\n",
       "CUSTOMER_GENDER                    217\n",
       "CUSTOMER_REGISTRATION_CHANNEL        1\n",
       "INVITER_CUSTOMER_ID              35233\n",
       "QTY_ORDERS                           0\n",
       "REVENUE                          41121\n",
       "FIRST_ORDER_DATE                 41121\n",
       "LAST_ORDER_DATE                  41121\n",
       "dtype: int64"
      ]
     },
     "execution_count": 124,
     "metadata": {},
     "output_type": "execute_result"
    }
   ],
   "source": [
    "df.isna().sum()"
   ]
  },
  {
   "cell_type": "code",
   "execution_count": 125,
   "metadata": {},
   "outputs": [
    {
     "data": {
      "text/html": [
       "<div>\n",
       "<style scoped>\n",
       "    .dataframe tbody tr th:only-of-type {\n",
       "        vertical-align: middle;\n",
       "    }\n",
       "\n",
       "    .dataframe tbody tr th {\n",
       "        vertical-align: top;\n",
       "    }\n",
       "\n",
       "    .dataframe thead th {\n",
       "        text-align: right;\n",
       "    }\n",
       "</style>\n",
       "<table border=\"1\" class=\"dataframe\">\n",
       "  <thead>\n",
       "    <tr style=\"text-align: right;\">\n",
       "      <th></th>\n",
       "      <th>QTY_ORDERS</th>\n",
       "      <th>REVENUE</th>\n",
       "    </tr>\n",
       "  </thead>\n",
       "  <tbody>\n",
       "    <tr>\n",
       "      <th>count</th>\n",
       "      <td>42920.000000</td>\n",
       "      <td>1799.000000</td>\n",
       "    </tr>\n",
       "    <tr>\n",
       "      <th>mean</th>\n",
       "      <td>0.263141</td>\n",
       "      <td>611.762281</td>\n",
       "    </tr>\n",
       "    <tr>\n",
       "      <th>std</th>\n",
       "      <td>4.966952</td>\n",
       "      <td>5383.434035</td>\n",
       "    </tr>\n",
       "    <tr>\n",
       "      <th>min</th>\n",
       "      <td>0.000000</td>\n",
       "      <td>-4.161300</td>\n",
       "    </tr>\n",
       "    <tr>\n",
       "      <th>25%</th>\n",
       "      <td>0.000000</td>\n",
       "      <td>39.264200</td>\n",
       "    </tr>\n",
       "    <tr>\n",
       "      <th>50%</th>\n",
       "      <td>0.000000</td>\n",
       "      <td>90.550100</td>\n",
       "    </tr>\n",
       "    <tr>\n",
       "      <th>75%</th>\n",
       "      <td>0.000000</td>\n",
       "      <td>283.166650</td>\n",
       "    </tr>\n",
       "    <tr>\n",
       "      <th>max</th>\n",
       "      <td>752.000000</td>\n",
       "      <td>214924.369500</td>\n",
       "    </tr>\n",
       "  </tbody>\n",
       "</table>\n",
       "</div>"
      ],
      "text/plain": [
       "         QTY_ORDERS        REVENUE\n",
       "count  42920.000000    1799.000000\n",
       "mean       0.263141     611.762281\n",
       "std        4.966952    5383.434035\n",
       "min        0.000000      -4.161300\n",
       "25%        0.000000      39.264200\n",
       "50%        0.000000      90.550100\n",
       "75%        0.000000     283.166650\n",
       "max      752.000000  214924.369500"
      ]
     },
     "execution_count": 125,
     "metadata": {},
     "output_type": "execute_result"
    }
   ],
   "source": [
    "df[['QTY_ORDERS', 'REVENUE']].describe()"
   ]
  },
  {
   "cell_type": "markdown",
   "metadata": {},
   "source": [
    "# Data Preprocessing"
   ]
  },
  {
   "cell_type": "markdown",
   "metadata": {},
   "source": [
    "For those customers, who haven't made an order yet, I use the logic of putting the user creation timestamp as a filler, which will be useful in the next step to create the time deltas."
   ]
  },
  {
   "cell_type": "code",
   "execution_count": 126,
   "metadata": {},
   "outputs": [],
   "source": [
    "df['FIRST_ORDER_DATE'] = df['FIRST_ORDER_DATE'].fillna(df['CUSTOMER_CREATED_TIMESTAMP'])\n",
    "df['LAST_ORDER_DATE'] = df['LAST_ORDER_DATE'].fillna(df['CUSTOMER_CREATED_TIMESTAMP'])\n",
    "df[['CUSTOMER_GENDER', 'CUSTOMER_REGISTRATION_CHANNEL']] = df[['CUSTOMER_GENDER', 'CUSTOMER_REGISTRATION_CHANNEL']].fillna('NA')\n",
    "df[['REVENUE', 'INVITER_CUSTOMER_ID']] = df[['REVENUE', 'INVITER_CUSTOMER_ID']].fillna(0)"
   ]
  },
  {
   "cell_type": "markdown",
   "metadata": {},
   "source": [
    "Next, we deal with outliers as we saw that some values in Quantity Orders and Revenue Colums seem unrealistically high or lower than 0.\n",
    "\n",
    "Outliers are a tricky topic, because oftentimes a statistical outlier might not be an outlier from a business perspective and vice versa. Outliers can often be valid, uncorrupted data, which simply represents an edge case for a business. Still, outliers can have a negative impact on a model performance and analysis, so I have chosen to remove a conservative amount using an algorithmic approach as my domain and business knowledge is limited. A huge advantage of the isolation forest algorithm is that it can tackle outliers in a multivariate fashion, which comes in very handy for bigger dimension datasets.\n",
    "\n",
    "Please note that Isolation Forest is unsupervised, so applying it on the whole data set will not result in data leakage!\n",
    "\n",
    "We aim to remove around 0.2% of the data. The 0.2% threshold is a heuristic measure, which for the purpose of this showcase should be a good measure."
   ]
  },
  {
   "cell_type": "code",
   "execution_count": 127,
   "metadata": {},
   "outputs": [],
   "source": [
    "def isolation_outlier(df, cont, cols=None):\n",
    "    print('dataset with outliers:', len(df))\n",
    "    isof = IsolationForest(max_samples=1000, contamination=cont/100)\n",
    "    if cols == None:\n",
    "        isof.fit(df.select_dtypes(include=np.number))\n",
    "        listpred = isof.predict(df.select_dtypes(include=np.number))\n",
    "    else:\n",
    "        isof.fit(df[cols])\n",
    "        listpred = isof.predict(df[cols])\n",
    "    df['outlier'] = listpred\n",
    "    df = df.loc[df['outlier'] == 1]\n",
    "    df.drop('outlier', axis=1, inplace=True)\n",
    "    print('dataset without outliers:', len(df))\n",
    "    return df"
   ]
  },
  {
   "cell_type": "code",
   "execution_count": 128,
   "metadata": {},
   "outputs": [
    {
     "name": "stdout",
     "output_type": "stream",
     "text": [
      "dataset with outliers: 42920\n"
     ]
    },
    {
     "name": "stderr",
     "output_type": "stream",
     "text": [
      "/Users/d/anaconda3/lib/python3.7/site-packages/sklearn/base.py:446: UserWarning: X does not have valid feature names, but IsolationForest was fitted with feature names\n",
      "  \"X does not have valid feature names, but\"\n"
     ]
    },
    {
     "name": "stdout",
     "output_type": "stream",
     "text": [
      "dataset without outliers: 42834\n"
     ]
    },
    {
     "name": "stderr",
     "output_type": "stream",
     "text": [
      "/Users/d/anaconda3/lib/python3.7/site-packages/pandas/core/frame.py:3697: SettingWithCopyWarning: \n",
      "A value is trying to be set on a copy of a slice from a DataFrame\n",
      "\n",
      "See the caveats in the documentation: http://pandas.pydata.org/pandas-docs/stable/indexing.html#indexing-view-versus-copy\n",
      "  errors=errors)\n"
     ]
    }
   ],
   "source": [
    "df = isolation_outlier(df, 0.2, cols=['REVENUE', 'QTY_ORDERS'])"
   ]
  },
  {
   "cell_type": "markdown",
   "metadata": {},
   "source": [
    "While the upper end outliers have been dealt with, the below 0 \"outliers\" (which statistically aren't outlier, but do not make logical sense) have persisted for Revenue, so we manually set every value smaller than 0 to 0"
   ]
  },
  {
   "cell_type": "code",
   "execution_count": 129,
   "metadata": {},
   "outputs": [
    {
     "data": {
      "text/html": [
       "<div>\n",
       "<style scoped>\n",
       "    .dataframe tbody tr th:only-of-type {\n",
       "        vertical-align: middle;\n",
       "    }\n",
       "\n",
       "    .dataframe tbody tr th {\n",
       "        vertical-align: top;\n",
       "    }\n",
       "\n",
       "    .dataframe thead th {\n",
       "        text-align: right;\n",
       "    }\n",
       "</style>\n",
       "<table border=\"1\" class=\"dataframe\">\n",
       "  <thead>\n",
       "    <tr style=\"text-align: right;\">\n",
       "      <th></th>\n",
       "      <th>QTY_ORDERS</th>\n",
       "      <th>REVENUE</th>\n",
       "    </tr>\n",
       "  </thead>\n",
       "  <tbody>\n",
       "    <tr>\n",
       "      <th>count</th>\n",
       "      <td>42834.000000</td>\n",
       "      <td>42834.000000</td>\n",
       "    </tr>\n",
       "    <tr>\n",
       "      <th>mean</th>\n",
       "      <td>0.135733</td>\n",
       "      <td>9.249071</td>\n",
       "    </tr>\n",
       "    <tr>\n",
       "      <th>std</th>\n",
       "      <td>1.149576</td>\n",
       "      <td>95.063282</td>\n",
       "    </tr>\n",
       "    <tr>\n",
       "      <th>min</th>\n",
       "      <td>0.000000</td>\n",
       "      <td>-4.161300</td>\n",
       "    </tr>\n",
       "    <tr>\n",
       "      <th>25%</th>\n",
       "      <td>0.000000</td>\n",
       "      <td>0.000000</td>\n",
       "    </tr>\n",
       "    <tr>\n",
       "      <th>50%</th>\n",
       "      <td>0.000000</td>\n",
       "      <td>0.000000</td>\n",
       "    </tr>\n",
       "    <tr>\n",
       "      <th>75%</th>\n",
       "      <td>0.000000</td>\n",
       "      <td>0.000000</td>\n",
       "    </tr>\n",
       "    <tr>\n",
       "      <th>max</th>\n",
       "      <td>50.000000</td>\n",
       "      <td>6821.937800</td>\n",
       "    </tr>\n",
       "  </tbody>\n",
       "</table>\n",
       "</div>"
      ],
      "text/plain": [
       "         QTY_ORDERS       REVENUE\n",
       "count  42834.000000  42834.000000\n",
       "mean       0.135733      9.249071\n",
       "std        1.149576     95.063282\n",
       "min        0.000000     -4.161300\n",
       "25%        0.000000      0.000000\n",
       "50%        0.000000      0.000000\n",
       "75%        0.000000      0.000000\n",
       "max       50.000000   6821.937800"
      ]
     },
     "execution_count": 129,
     "metadata": {},
     "output_type": "execute_result"
    }
   ],
   "source": [
    "df[['QTY_ORDERS', 'REVENUE']].describe()"
   ]
  },
  {
   "cell_type": "code",
   "execution_count": 130,
   "metadata": {},
   "outputs": [],
   "source": [
    "rev = []\n",
    "for row in df.REVENUE.iteritems():\n",
    "    if row[1] < 0:\n",
    "        rev.append(0)\n",
    "    else:\n",
    "        rev.append(row[1])"
   ]
  },
  {
   "cell_type": "code",
   "execution_count": 131,
   "metadata": {},
   "outputs": [
    {
     "data": {
      "text/plain": [
       "count    42834.000000\n",
       "mean         9.249866\n",
       "std         95.063198\n",
       "min          0.000000\n",
       "25%          0.000000\n",
       "50%          0.000000\n",
       "75%          0.000000\n",
       "max       6821.937800\n",
       "Name: REVENUE, dtype: float64"
      ]
     },
     "execution_count": 131,
     "metadata": {},
     "output_type": "execute_result"
    }
   ],
   "source": [
    "df['REVENUE'] = rev\n",
    "df['REVENUE'].describe()"
   ]
  },
  {
   "cell_type": "markdown",
   "metadata": {},
   "source": [
    "After converting the date columns into the datetime format, we then engineer the new features by calculating the delta between the account creation date and the date of the last order as well as the delta between the first and latest order in days.\n",
    "\n",
    "Further we engineer the features revenue per order (total revenue/quantity of orders) and revenue per day (total revenue / days between account creation and last order)  "
   ]
  },
  {
   "cell_type": "code",
   "execution_count": 132,
   "metadata": {},
   "outputs": [],
   "source": [
    "df['CUSTOMER_CREATED_TIMESTAMP'] = pd.to_datetime(df['CUSTOMER_CREATED_TIMESTAMP'])\n",
    "df['FIRST_ORDER_DATE'] = pd.to_datetime(df['FIRST_ORDER_DATE'])\n",
    "df['LAST_ORDER_DATE'] = pd.to_datetime(df['LAST_ORDER_DATE'])\n",
    "\n",
    "df['days_created_last_ord'] = (df['LAST_ORDER_DATE'] - df['CUSTOMER_CREATED_TIMESTAMP']).dt.days\n",
    "df['days_first_last_ord'] = (df['LAST_ORDER_DATE'] - df['FIRST_ORDER_DATE']).dt.days\n",
    "\n",
    "df['rev_per_order'] = df['REVENUE'] / df['QTY_ORDERS']\n",
    "df['rev_per_day'] = df['REVENUE'] / df['days_created_last_ord']"
   ]
  },
  {
   "cell_type": "code",
   "execution_count": 133,
   "metadata": {},
   "outputs": [],
   "source": [
    "df[['rev_per_order', 'rev_per_day']] = df[['rev_per_order', 'rev_per_day']].fillna(0)"
   ]
  },
  {
   "cell_type": "markdown",
   "metadata": {},
   "source": [
    "we now use the pandas implementation of one hot encoding on the registration channel to represent it numerically."
   ]
  },
  {
   "cell_type": "code",
   "execution_count": 134,
   "metadata": {},
   "outputs": [],
   "source": [
    "oh_channel = pd.get_dummies(df['CUSTOMER_REGISTRATION_CHANNEL'])\n",
    "df = df.join(oh_channel)"
   ]
  },
  {
   "cell_type": "markdown",
   "metadata": {},
   "source": [
    "We also one hot encode the gender, so that we have a numerical representation of it. I did this manually to show my ability to use for-loops."
   ]
  },
  {
   "cell_type": "code",
   "execution_count": 135,
   "metadata": {},
   "outputs": [],
   "source": [
    "isfem = []\n",
    "for row in df['CUSTOMER_GENDER'].iteritems():\n",
    "    if row[1] == 'female':\n",
    "        isfem.append(1)\n",
    "    else:\n",
    "        isfem.append(0)\n",
    "df['isfemale'] = isfem\n",
    "#df = df.drop('CUSTOMER_GENDER', axis=1)"
   ]
  },
  {
   "cell_type": "markdown",
   "metadata": {},
   "source": [
    "In order to get the count of invitations sent out by an user, we use the value count method to get the inviter ID and the corresponding number of invites sent out by the specific ID. We then save it as a dataframe to later merge it with the rest of the data."
   ]
  },
  {
   "cell_type": "code",
   "execution_count": 136,
   "metadata": {},
   "outputs": [],
   "source": [
    "id_counts = df['INVITER_CUSTOMER_ID'].value_counts().to_frame(name='invite_count')"
   ]
  },
  {
   "cell_type": "markdown",
   "metadata": {},
   "source": [
    "Let's cut the dataframe down to the necessary features"
   ]
  },
  {
   "cell_type": "code",
   "execution_count": 137,
   "metadata": {},
   "outputs": [],
   "source": [
    "df_shrt = df[['CUSTOMER_ID', 'CUSTOMER_REGISTRATION_CHANNEL', 'QTY_ORDERS', 'REVENUE', 'days_created_last_ord', 'days_first_last_ord',\n",
    "              'isfemale','rev_per_order', 'rev_per_day', 'affiliate', 'other', 'partnerprogram', 'viral']]"
   ]
  },
  {
   "cell_type": "markdown",
   "metadata": {},
   "source": [
    "Last, we merge the invite counts with the rest of the features"
   ]
  },
  {
   "cell_type": "code",
   "execution_count": 138,
   "metadata": {},
   "outputs": [],
   "source": [
    "df_final = pd.merge(df_shrt, id_counts, left_on='CUSTOMER_ID', right_on=id_counts.index, how='left')\n",
    "df_final['invite_count'] = df_final['invite_count'].fillna(0)"
   ]
  },
  {
   "cell_type": "markdown",
   "metadata": {},
   "source": [
    "On the last check, we again notice that for the days_created_last_ord column, we have -1 as the lowest value, which does not make sense as you cannot place an order before creating your account, so again we set every value lower than 0 to 0."
   ]
  },
  {
   "cell_type": "code",
   "execution_count": 139,
   "metadata": {},
   "outputs": [
    {
     "data": {
      "text/html": [
       "<div>\n",
       "<style scoped>\n",
       "    .dataframe tbody tr th:only-of-type {\n",
       "        vertical-align: middle;\n",
       "    }\n",
       "\n",
       "    .dataframe tbody tr th {\n",
       "        vertical-align: top;\n",
       "    }\n",
       "\n",
       "    .dataframe thead th {\n",
       "        text-align: right;\n",
       "    }\n",
       "</style>\n",
       "<table border=\"1\" class=\"dataframe\">\n",
       "  <thead>\n",
       "    <tr style=\"text-align: right;\">\n",
       "      <th></th>\n",
       "      <th>QTY_ORDERS</th>\n",
       "      <th>REVENUE</th>\n",
       "      <th>days_created_last_ord</th>\n",
       "      <th>days_first_last_ord</th>\n",
       "    </tr>\n",
       "  </thead>\n",
       "  <tbody>\n",
       "    <tr>\n",
       "      <th>count</th>\n",
       "      <td>42834.000000</td>\n",
       "      <td>42834.000000</td>\n",
       "      <td>42834.00000</td>\n",
       "      <td>42834.000000</td>\n",
       "    </tr>\n",
       "    <tr>\n",
       "      <th>mean</th>\n",
       "      <td>0.135733</td>\n",
       "      <td>9.249866</td>\n",
       "      <td>11.14234</td>\n",
       "      <td>7.171149</td>\n",
       "    </tr>\n",
       "    <tr>\n",
       "      <th>std</th>\n",
       "      <td>1.149576</td>\n",
       "      <td>95.063198</td>\n",
       "      <td>104.66169</td>\n",
       "      <td>82.677266</td>\n",
       "    </tr>\n",
       "    <tr>\n",
       "      <th>min</th>\n",
       "      <td>0.000000</td>\n",
       "      <td>0.000000</td>\n",
       "      <td>-1.00000</td>\n",
       "      <td>0.000000</td>\n",
       "    </tr>\n",
       "    <tr>\n",
       "      <th>25%</th>\n",
       "      <td>0.000000</td>\n",
       "      <td>0.000000</td>\n",
       "      <td>0.00000</td>\n",
       "      <td>0.000000</td>\n",
       "    </tr>\n",
       "    <tr>\n",
       "      <th>50%</th>\n",
       "      <td>0.000000</td>\n",
       "      <td>0.000000</td>\n",
       "      <td>0.00000</td>\n",
       "      <td>0.000000</td>\n",
       "    </tr>\n",
       "    <tr>\n",
       "      <th>75%</th>\n",
       "      <td>0.000000</td>\n",
       "      <td>0.000000</td>\n",
       "      <td>0.00000</td>\n",
       "      <td>0.000000</td>\n",
       "    </tr>\n",
       "    <tr>\n",
       "      <th>max</th>\n",
       "      <td>50.000000</td>\n",
       "      <td>6821.937800</td>\n",
       "      <td>2693.00000</td>\n",
       "      <td>2505.000000</td>\n",
       "    </tr>\n",
       "  </tbody>\n",
       "</table>\n",
       "</div>"
      ],
      "text/plain": [
       "         QTY_ORDERS       REVENUE  days_created_last_ord  days_first_last_ord\n",
       "count  42834.000000  42834.000000            42834.00000         42834.000000\n",
       "mean       0.135733      9.249866               11.14234             7.171149\n",
       "std        1.149576     95.063198              104.66169            82.677266\n",
       "min        0.000000      0.000000               -1.00000             0.000000\n",
       "25%        0.000000      0.000000                0.00000             0.000000\n",
       "50%        0.000000      0.000000                0.00000             0.000000\n",
       "75%        0.000000      0.000000                0.00000             0.000000\n",
       "max       50.000000   6821.937800             2693.00000          2505.000000"
      ]
     },
     "execution_count": 139,
     "metadata": {},
     "output_type": "execute_result"
    }
   ],
   "source": [
    "df_final[['QTY_ORDERS', 'REVENUE', 'days_created_last_ord', 'days_first_last_ord']].describe()"
   ]
  },
  {
   "cell_type": "code",
   "execution_count": 140,
   "metadata": {},
   "outputs": [],
   "source": [
    "dclo = []\n",
    "for row in df.days_created_last_ord.iteritems():\n",
    "    if row[1] < 0:\n",
    "        dclo.append(0)\n",
    "    else:\n",
    "        dclo.append(row[1])"
   ]
  },
  {
   "cell_type": "code",
   "execution_count": 141,
   "metadata": {},
   "outputs": [
    {
     "data": {
      "text/plain": [
       "count    42834.000000\n",
       "mean        11.148737\n",
       "std        104.660978\n",
       "min          0.000000\n",
       "25%          0.000000\n",
       "50%          0.000000\n",
       "75%          0.000000\n",
       "max       2693.000000\n",
       "Name: days_created_last_ord, dtype: float64"
      ]
     },
     "execution_count": 141,
     "metadata": {},
     "output_type": "execute_result"
    }
   ],
   "source": [
    "df_final['days_created_last_ord'] = dclo\n",
    "df_final['days_created_last_ord'].describe()"
   ]
  },
  {
   "cell_type": "markdown",
   "metadata": {},
   "source": [
    "# Analysis"
   ]
  },
  {
   "cell_type": "code",
   "execution_count": 142,
   "metadata": {},
   "outputs": [
    {
     "data": {
      "image/png": "[encoded data removed]",
      "text/plain": [
       "<Figure size 1440x720 with 2 Axes>"
      ]
     },
     "metadata": {
      "needs_background": "light"
     },
     "output_type": "display_data"
    }
   ],
   "source": [
    "cm = df_final.corr()\n",
    "plt.rcParams[\"figure.figsize\"] = (20,10)\n",
    "\n",
    "\n",
    "sn.heatmap(cm, annot=True)\n",
    "plt.show()"
   ]
  },
  {
   "cell_type": "markdown",
   "metadata": {},
   "source": [
    "Now, according to the wording of the task, we should sort the ID's by invite count as well as Revenue and Order Quantity as we want to target users that \"show potential\", who haven't invited other users so far (List B)\n",
    "\n",
    "On the other hand, the above matrix shows that the invite count has some decent correlation with other features like 'days between first and last order', 'days between account creation and last order', 'number of orders by account' and 'revenue' (List A)\n",
    "\n",
    "\n",
    "My idea would be to actually AB Test both lists against each other to see which approach yields better performance. Unfortunately, the task didn't mention specific KPIs or metrics by which performance is determined, so that would be something that would need to be clarified ahead of the test.\n",
    "\n",
    "\n",
    "I have not shortened the lists, just sorted them because the task didn't specify how many users should be targeted. If the marketeers for example want to target 1000 users, they can simply take the first 1000 users of the list."
   ]
  },
  {
   "cell_type": "code",
   "execution_count": 143,
   "metadata": {},
   "outputs": [],
   "source": [
    "df_a = df_final.sort_values(['invite_count', 'QTY_ORDERS', 'days_first_last_ord', 'days_created_last_ord', 'REVENUE'],\n",
    "                            ascending = (True, False, False, False, False))\n",
    "\n",
    "df_a_ids = df_a['CUSTOMER_ID'].reset_index(drop=True)\n",
    "\n",
    "\n",
    "df_b = df_final.sort_values(['invite_count', 'REVENUE', 'QTY_ORDERS'], \n",
    "                            ascending = (True, False, False))\n",
    "\n",
    "df_b_ids = df_b['CUSTOMER_ID'].reset_index(drop=True)"
   ]
  },
  {
   "cell_type": "code",
   "execution_count": 144,
   "metadata": {},
   "outputs": [],
   "source": [
    "df_a_ids.to_csv('BS_List_A.csv', index=False, header='ID')\n",
    "df_b_ids.to_csv('BS_List_B.csv', index=False, header='ID')"
   ]
  }
 ],
 "metadata": {
  "kernelspec": {
   "display_name": "Python 3",
   "language": "python",
   "name": "python3"
  },
  "language_info": {
   "codemirror_mode": {
    "name": "ipython",
    "version": 3
   },
   "file_extension": ".py",
   "mimetype": "text/x-python",
   "name": "python",
   "nbconvert_exporter": "python",
   "pygments_lexer": "ipython3",
   "version": "3.7.0"
  }
 },
 "nbformat": 4,
 "nbformat_minor": 2
}
